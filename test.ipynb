{
 "cells": [
  {
   "cell_type": "code",
   "execution_count": 1,
   "metadata": {},
   "outputs": [
    {
     "name": "stdout",
     "output_type": "stream",
     "text": [
      "Queue after enqueuing: deque([1, 2, 3])\n",
      "Dequeued element: 1\n",
      "Queue after dequeuing: deque([2, 3])\n"
     ]
    }
   ],
   "source": [
    "from collections import deque\n",
    "\n",
    "# Initialize a deque\n",
    "queue = deque()\n",
    "\n",
    "# Enqueue elements\n",
    "queue.append(1)\n",
    "queue.append(2)\n",
    "queue.append(3)\n",
    "\n",
    "print(\"Queue after enqueuing:\", queue)  # Output: deque([1, 2, 3])\n",
    "\n",
    "# Dequeue element\n",
    "first = queue.popleft()\n",
    "print(\"Dequeued element:\", first)       # Output: 1\n",
    "print(\"Queue after dequeuing:\", queue)  # Output: deque([2, 3])\n"
   ]
  },
  {
   "cell_type": "code",
   "execution_count": 2,
   "metadata": {},
   "outputs": [
    {
     "name": "stdout",
     "output_type": "stream",
     "text": [
      "5\n"
     ]
    }
   ],
   "source": [
    "add  = [2,2,3,4]\n",
    "add.append(5)\n",
    "print(add.pop())"
   ]
  },
  {
   "cell_type": "code",
   "execution_count": 11,
   "metadata": {},
   "outputs": [
    {
     "name": "stdout",
     "output_type": "stream",
     "text": [
      "('f', 3)\n",
      "{'s': 2}\n"
     ]
    }
   ],
   "source": [
    "ahsa = {\"s\": 2, \"f\": 3}\n",
    "\n",
    "print(ahsa.popitem())\n",
    "print(ahsa)"
   ]
  },
  {
   "cell_type": "code",
   "execution_count": 9,
   "metadata": {},
   "outputs": [
    {
     "name": "stdout",
     "output_type": "stream",
     "text": [
      "{'l', 'a'}\n"
     ]
    }
   ],
   "source": [
    "star = 'l'\n",
    "\n",
    "ahsa = set([star, star, star, star, 'a'])\n",
    "ahsa.add(star)\n",
    "print(ahsa)"
   ]
  },
  {
   "cell_type": "code",
   "execution_count": null,
   "metadata": {},
   "outputs": [],
   "source": []
  }
 ],
 "metadata": {
  "kernelspec": {
   "display_name": "pt",
   "language": "python",
   "name": "python3"
  },
  "language_info": {
   "codemirror_mode": {
    "name": "ipython",
    "version": 3
   },
   "file_extension": ".py",
   "mimetype": "text/x-python",
   "name": "python",
   "nbconvert_exporter": "python",
   "pygments_lexer": "ipython3",
   "version": "3.9.19"
  }
 },
 "nbformat": 4,
 "nbformat_minor": 2
}
